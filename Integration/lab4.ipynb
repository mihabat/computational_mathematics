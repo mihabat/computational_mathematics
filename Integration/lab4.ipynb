{
 "cells": [
  {
   "cell_type": "code",
   "execution_count": 2,
   "metadata": {},
   "outputs": [],
   "source": [
    "import matplotlib.pyplot as plt\n",
    "import matplotlib.ticker as ticker\n",
    "import numpy as np"
   ]
  },
  {
   "cell_type": "code",
   "execution_count": 15,
   "metadata": {},
   "outputs": [],
   "source": [
    "def mnk(t, a): # t == x, a == y\n",
    "    xy = 0\n",
    "    xx = 0\n",
    "    yy = 0\n",
    "    x = 0\n",
    "    y = 0\n",
    "    for j in range(len(t)):\n",
    "        xy += t[j] * a[j]\n",
    "        x += t[j]\n",
    "        y += a[j]\n",
    "        xx += t[j] * t[j]\n",
    "        yy += a[j] * a[j]\n",
    "    xy /= len(t)\n",
    "    xx /= len(t)\n",
    "    yy /= len(t)\n",
    "    x /= len(t)\n",
    "    y /= len(t)\n",
    "    k = float((xy - x * y) / (xx - x ** 2))\n",
    "    b = float(y - k * x)\n",
    "    rk = float((1 / (len(t) ** 0.5)) * ((yy - y ** 2) / (xx - x ** 2) - k ** 2) ** 0.5)\n",
    "    rb = float(rk * (xx - x ** 2) ** 0.5)\n",
    "    k_b_rk_rb = [k, b, rk, rb]\n",
    "    return k_b_rk_rb"
   ]
  },
  {
   "cell_type": "code",
   "execution_count": 36,
   "metadata": {},
   "outputs": [
    {
     "name": "stderr",
     "output_type": "stream",
     "text": [
      "C:\\Users\\Михаил\\AppData\\Local\\Temp\\ipykernel_14116\\1948953177.py:12: RuntimeWarning: invalid value encountered in log\n",
      "  plt.errorbar(np.log(h[i]), np.log(err[i]))\n",
      "C:\\Users\\Михаил\\AppData\\Local\\Temp\\ipykernel_14116\\1948953177.py:12: RuntimeWarning: divide by zero encountered in log\n",
      "  plt.errorbar(np.log(h[i]), np.log(err[i]))\n"
     ]
    },
    {
     "name": "stdout",
     "output_type": "stream",
     "text": [
      "9.442812810964544\n"
     ]
    },
    {
     "data": {
      "image/png": "[encoded data removed]",
      "text/plain": [
       "<Figure size 550x550 with 1 Axes>"
      ]
     },
     "metadata": {},
     "output_type": "display_data"
    }
   ],
   "source": [
    "h = np.arange(0.01, 1.0001, 0.0001)\n",
    "err = []\n",
    "with open(\"5knots.txt\", 'r') as f:\n",
    "    for line in f:\n",
    "        err.append(*[float(x) for x in line.split()])\n",
    "err = np.array(err)\n",
    "\n",
    "fig, ax = plt.subplots(figsize=(10, 10), dpi=55)\n",
    "ax.grid()\n",
    "#plt.plot(np.log(h), np.log(err))\n",
    "for i in range(len(h)):\n",
    "    plt.errorbar(np.log(h[i]), np.log(err[i]))\n",
    "params = mnk(np.log(h[5000:]), np.log(err[5000:]))\n",
    "plt.plot(np.log(h[5000:]), np.polyval([params[0], params[1]], np.log(h[5000:])))\n",
    "print(params[0])"
   ]
  }
 ],
 "metadata": {
  "kernelspec": {
   "display_name": "Python 3",
   "language": "python",
   "name": "python3"
  },
  "language_info": {
   "codemirror_mode": {
    "name": "ipython",
    "version": 3
   },
   "file_extension": ".py",
   "mimetype": "text/x-python",
   "name": "python",
   "nbconvert_exporter": "python",
   "pygments_lexer": "ipython3",
   "version": "3.9.7"
  }
 },
 "nbformat": 4,
 "nbformat_minor": 2
}
